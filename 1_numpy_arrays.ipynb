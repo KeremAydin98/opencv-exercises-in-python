{
  "nbformat": 4,
  "nbformat_minor": 0,
  "metadata": {
    "colab": {
      "name": "1_numpy_arrays.ipynb",
      "provenance": [],
      "collapsed_sections": [],
      "authorship_tag": "ABX9TyMgO/u6Bo4zKlvw3qyUs5L1",
      "include_colab_link": true
    },
    "kernelspec": {
      "name": "python3",
      "display_name": "Python 3"
    },
    "language_info": {
      "name": "python"
    }
  },
  "cells": [
    {
      "cell_type": "markdown",
      "metadata": {
        "id": "view-in-github",
        "colab_type": "text"
      },
      "source": [
        "<a href=\"https://colab.research.google.com/github/KeremAydin98/opencv-exercises-in-python/blob/main/1_numpy_arrays.ipynb\" target=\"_parent\"><img src=\"https://colab.research.google.com/assets/colab-badge.svg\" alt=\"Open In Colab\"/></a>"
      ]
    },
    {
      "cell_type": "code",
      "metadata": {
        "id": "K1z1CuAp_c_A"
      },
      "source": [
        "import numpy as np"
      ],
      "execution_count": null,
      "outputs": []
    },
    {
      "cell_type": "markdown",
      "metadata": {
        "id": "e8gzflFa_2J_"
      },
      "source": [
        "ARRAYS"
      ]
    },
    {
      "cell_type": "code",
      "metadata": {
        "colab": {
          "base_uri": "https://localhost:8080/"
        },
        "id": "0CDcdJOb_gj4",
        "outputId": "a6f34050-fbb4-42e6-90e7-518cedea15df"
      },
      "source": [
        "np.arange(0,10)"
      ],
      "execution_count": null,
      "outputs": [
        {
          "output_type": "execute_result",
          "data": {
            "text/plain": [
              "array([0, 1, 2, 3, 4, 5, 6, 7, 8, 9])"
            ]
          },
          "metadata": {},
          "execution_count": 2
        }
      ]
    },
    {
      "cell_type": "code",
      "metadata": {
        "id": "E5wX-tB9_lCh"
      },
      "source": [
        "mylist=[1,2,3,4,5]"
      ],
      "execution_count": null,
      "outputs": []
    },
    {
      "cell_type": "code",
      "metadata": {
        "colab": {
          "base_uri": "https://localhost:8080/"
        },
        "id": "VEemXSGB_oKt",
        "outputId": "0776c8fd-8552-4990-98e6-ea7b7cfc196e"
      },
      "source": [
        "mylist"
      ],
      "execution_count": null,
      "outputs": [
        {
          "output_type": "execute_result",
          "data": {
            "text/plain": [
              "[1, 2, 3, 4, 5]"
            ]
          },
          "metadata": {},
          "execution_count": 4
        }
      ]
    },
    {
      "cell_type": "code",
      "metadata": {
        "colab": {
          "base_uri": "https://localhost:8080/"
        },
        "id": "u8cb0hPA_ox1",
        "outputId": "675cc6b7-782d-44a0-a52d-a4569e76a566"
      },
      "source": [
        "type(mylist)"
      ],
      "execution_count": null,
      "outputs": [
        {
          "output_type": "execute_result",
          "data": {
            "text/plain": [
              "list"
            ]
          },
          "metadata": {},
          "execution_count": 5
        }
      ]
    },
    {
      "cell_type": "code",
      "metadata": {
        "colab": {
          "base_uri": "https://localhost:8080/"
        },
        "id": "fTENSAcl_qU0",
        "outputId": "6dc72c52-c447-4941-f60c-9413d924fb50"
      },
      "source": [
        "np.array(mylist)"
      ],
      "execution_count": null,
      "outputs": [
        {
          "output_type": "execute_result",
          "data": {
            "text/plain": [
              "array([1, 2, 3, 4, 5])"
            ]
          },
          "metadata": {},
          "execution_count": 6
        }
      ]
    },
    {
      "cell_type": "code",
      "metadata": {
        "colab": {
          "base_uri": "https://localhost:8080/"
        },
        "id": "UxspAna8_s6j",
        "outputId": "b050eb80-c294-4497-840a-cdfb69dda057"
      },
      "source": [
        "type(mylist)"
      ],
      "execution_count": null,
      "outputs": [
        {
          "output_type": "execute_result",
          "data": {
            "text/plain": [
              "list"
            ]
          },
          "metadata": {},
          "execution_count": 7
        }
      ]
    },
    {
      "cell_type": "markdown",
      "metadata": {
        "id": "O2Hjhf9D_xFn"
      },
      "source": [
        "MATRIX"
      ]
    },
    {
      "cell_type": "code",
      "metadata": {
        "colab": {
          "base_uri": "https://localhost:8080/"
        },
        "id": "B9eWSOYD_uXc",
        "outputId": "0a43c086-e430-4993-fe63-a4f514db643b"
      },
      "source": [
        "np.zeros(shape=(3,3))"
      ],
      "execution_count": null,
      "outputs": [
        {
          "output_type": "execute_result",
          "data": {
            "text/plain": [
              "array([[0., 0., 0.],\n",
              "       [0., 0., 0.],\n",
              "       [0., 0., 0.]])"
            ]
          },
          "metadata": {},
          "execution_count": 8
        }
      ]
    },
    {
      "cell_type": "code",
      "metadata": {
        "id": "cs4snOS1ABC-"
      },
      "source": [
        "myarray=np.arange(0,100)"
      ],
      "execution_count": null,
      "outputs": []
    },
    {
      "cell_type": "code",
      "metadata": {
        "id": "LaR0mZZmAGkF"
      },
      "source": [
        "new_array=myarray.reshape(10,10)"
      ],
      "execution_count": null,
      "outputs": []
    },
    {
      "cell_type": "code",
      "metadata": {
        "colab": {
          "base_uri": "https://localhost:8080/"
        },
        "id": "1GpPh5tfAJ4I",
        "outputId": "aaa543a0-d498-4c34-8251-dd39932cde26"
      },
      "source": [
        "new_array"
      ],
      "execution_count": null,
      "outputs": [
        {
          "output_type": "execute_result",
          "data": {
            "text/plain": [
              "array([[ 0,  1,  2,  3,  4,  5,  6,  7,  8,  9],\n",
              "       [10, 11, 12, 13, 14, 15, 16, 17, 18, 19],\n",
              "       [20, 21, 22, 23, 24, 25, 26, 27, 28, 29],\n",
              "       [30, 31, 32, 33, 34, 35, 36, 37, 38, 39],\n",
              "       [40, 41, 42, 43, 44, 45, 46, 47, 48, 49],\n",
              "       [50, 51, 52, 53, 54, 55, 56, 57, 58, 59],\n",
              "       [60, 61, 62, 63, 64, 65, 66, 67, 68, 69],\n",
              "       [70, 71, 72, 73, 74, 75, 76, 77, 78, 79],\n",
              "       [80, 81, 82, 83, 84, 85, 86, 87, 88, 89],\n",
              "       [90, 91, 92, 93, 94, 95, 96, 97, 98, 99]])"
            ]
          },
          "metadata": {},
          "execution_count": 19
        }
      ]
    },
    {
      "cell_type": "code",
      "metadata": {
        "colab": {
          "base_uri": "https://localhost:8080/"
        },
        "id": "3_EQXQhlAW_Z",
        "outputId": "7ee96ea6-766f-462a-9810-775b0e59623e"
      },
      "source": [
        "new_array[0,1]"
      ],
      "execution_count": null,
      "outputs": [
        {
          "output_type": "execute_result",
          "data": {
            "text/plain": [
              "1"
            ]
          },
          "metadata": {},
          "execution_count": 20
        }
      ]
    },
    {
      "cell_type": "code",
      "metadata": {
        "colab": {
          "base_uri": "https://localhost:8080/"
        },
        "id": "-MYcR_2wApaM",
        "outputId": "e6069f58-8eeb-437b-9775-4f382726d957"
      },
      "source": [
        "new_array[4,6]"
      ],
      "execution_count": null,
      "outputs": [
        {
          "output_type": "execute_result",
          "data": {
            "text/plain": [
              "46"
            ]
          },
          "metadata": {},
          "execution_count": 21
        }
      ]
    },
    {
      "cell_type": "code",
      "metadata": {
        "colab": {
          "base_uri": "https://localhost:8080/"
        },
        "id": "Jnl82XzfArbz",
        "outputId": "46ebc652-094f-4baf-dee8-6279c3ba7b90"
      },
      "source": [
        "new_array[:,2].reshape(10,-1)"
      ],
      "execution_count": null,
      "outputs": [
        {
          "output_type": "execute_result",
          "data": {
            "text/plain": [
              "array([[ 2],\n",
              "       [12],\n",
              "       [22],\n",
              "       [32],\n",
              "       [42],\n",
              "       [52],\n",
              "       [62],\n",
              "       [72],\n",
              "       [82],\n",
              "       [92]])"
            ]
          },
          "metadata": {},
          "execution_count": 25
        }
      ]
    },
    {
      "cell_type": "code",
      "metadata": {
        "id": "0bg59vAYAveU"
      },
      "source": [
        "new_array[:,2]=0"
      ],
      "execution_count": null,
      "outputs": []
    },
    {
      "cell_type": "code",
      "metadata": {
        "id": "_R4CNK9MA-qi",
        "colab": {
          "base_uri": "https://localhost:8080/"
        },
        "outputId": "b944a0a6-b0a0-4733-cb2e-fe758ec95976"
      },
      "source": [
        "new_array"
      ],
      "execution_count": null,
      "outputs": [
        {
          "output_type": "execute_result",
          "data": {
            "text/plain": [
              "array([[ 0,  1,  0,  3,  4,  5,  6,  7,  8,  9],\n",
              "       [10, 11,  0, 13, 14, 15, 16, 17, 18, 19],\n",
              "       [20, 21,  0, 23, 24, 25, 26, 27, 28, 29],\n",
              "       [30, 31,  0, 33, 34, 35, 36, 37, 38, 39],\n",
              "       [40, 41,  0, 43, 44, 45, 46, 47, 48, 49],\n",
              "       [50, 51,  0, 53, 54, 55, 56, 57, 58, 59],\n",
              "       [60, 61,  0, 63, 64, 65, 66, 67, 68, 69],\n",
              "       [70, 71,  0, 73, 74, 75, 76, 77, 78, 79],\n",
              "       [80, 81,  0, 83, 84, 85, 86, 87, 88, 89],\n",
              "       [90, 91,  0, 93, 94, 95, 96, 97, 98, 99]])"
            ]
          },
          "metadata": {},
          "execution_count": 27
        }
      ]
    }
  ]
}